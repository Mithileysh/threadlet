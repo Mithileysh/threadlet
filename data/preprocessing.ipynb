{
 "cells": [
  {
   "cell_type": "markdown",
   "metadata": {},
   "source": [
    "# Preprocessing Enron Dataset\n",
    "*Convert the current csv file to a json file with a structure ready for visualisation.*\n",
    "\n",
    "Each line in the csv file is a (message, recipient) combination, assuming a message does not contain duplicate recipients. I want to have a hierarchical structure:\n",
    "```\n",
    "array of threads: [thread_1, ..., thread_n], each thread has threadId, and\n",
    "array of messages: [message_1, ..., message_m], each message has messageId, subject, sender, times, and \n",
    "array of recipients: [rec_1, ..., rec_k], each recipient has email and type\n",
    "\n",
    "[\n",
    "    { \n",
    "        threadId: e94a22508dac953,\n",
    "        messages: [\n",
    "            {\n",
    "                messageId: e94a22508dac953,\n",
    "                subject: FW: LINE SM-123,\n",
    "                sender: victor.lamadrid@enron.com,\n",
    "                time: 2001-10-01T14:19:03-07:00,\n",
    "                recipients: [\n",
    "                    { email: john.hodge@enron.com, type: to },\n",
    "                    { email: john.singer@enron.com, type: cc },\n",
    "                    { email: scott.neal@enron.com, type: bc },\n",
    "                    { email: clarissa.garcia@enron.com, type: to }\n",
    "                ]\n",
    "            }\n",
    "        ]\n",
    "    }\n",
    "]\n",
    "```"
   ]
  },
  {
   "cell_type": "code",
   "execution_count": 1,
   "metadata": {
    "collapsed": true
   },
   "outputs": [],
   "source": [
    "input_file = 'enronThread2001.csv'\n",
    "output_file = 'enronThread2001.json'"
   ]
  },
  {
   "cell_type": "code",
   "execution_count": 2,
   "metadata": {
    "collapsed": true
   },
   "outputs": [],
   "source": [
    "import pandas as pd\n",
    "import pprint\n",
    "import json"
   ]
  },
  {
   "cell_type": "code",
   "execution_count": 3,
   "metadata": {},
   "outputs": [
    {
     "data": {
      "text/html": [
       "<div>\n",
       "<style>\n",
       "    .dataframe thead tr:only-child th {\n",
       "        text-align: right;\n",
       "    }\n",
       "\n",
       "    .dataframe thead th {\n",
       "        text-align: left;\n",
       "    }\n",
       "\n",
       "    .dataframe tbody tr th {\n",
       "        vertical-align: top;\n",
       "    }\n",
       "</style>\n",
       "<table border=\"1\" class=\"dataframe\">\n",
       "  <thead>\n",
       "    <tr style=\"text-align: right;\">\n",
       "      <th></th>\n",
       "      <th>TID</th>\n",
       "      <th>MID</th>\n",
       "      <th>SUBJECT</th>\n",
       "      <th>FROM</th>\n",
       "      <th>TIMESTAMP</th>\n",
       "      <th>TO</th>\n",
       "      <th>TYPE</th>\n",
       "    </tr>\n",
       "  </thead>\n",
       "  <tbody>\n",
       "    <tr>\n",
       "      <th>0</th>\n",
       "      <td>e94a22508dac953</td>\n",
       "      <td>e94a22508dac953</td>\n",
       "      <td>\"FW: LINE SM-123\"</td>\n",
       "      <td>victor.lamadrid@enron.com</td>\n",
       "      <td>2001-10-01T14:19:03-07:00</td>\n",
       "      <td>john.hodge@enron.com</td>\n",
       "      <td>TO</td>\n",
       "    </tr>\n",
       "    <tr>\n",
       "      <th>1</th>\n",
       "      <td>e94a22508dac953</td>\n",
       "      <td>e94a22508dac953</td>\n",
       "      <td>\"FW: LINE SM-123\"</td>\n",
       "      <td>victor.lamadrid@enron.com</td>\n",
       "      <td>2001-10-01T14:19:03-07:00</td>\n",
       "      <td>john.singer@enron.com</td>\n",
       "      <td>TO</td>\n",
       "    </tr>\n",
       "    <tr>\n",
       "      <th>2</th>\n",
       "      <td>e94a22508dac953</td>\n",
       "      <td>e94a22508dac953</td>\n",
       "      <td>\"FW: LINE SM-123\"</td>\n",
       "      <td>victor.lamadrid@enron.com</td>\n",
       "      <td>2001-10-01T14:19:03-07:00</td>\n",
       "      <td>scott.neal@enron.com</td>\n",
       "      <td>TO</td>\n",
       "    </tr>\n",
       "    <tr>\n",
       "      <th>3</th>\n",
       "      <td>e94a22508dac953</td>\n",
       "      <td>e94a22508dac953</td>\n",
       "      <td>\"FW: LINE SM-123\"</td>\n",
       "      <td>victor.lamadrid@enron.com</td>\n",
       "      <td>2001-10-01T14:19:03-07:00</td>\n",
       "      <td>clarissa.garcia@enron.com</td>\n",
       "      <td>TO</td>\n",
       "    </tr>\n",
       "    <tr>\n",
       "      <th>4</th>\n",
       "      <td>e94a22508dac953</td>\n",
       "      <td>e94a22508dac953</td>\n",
       "      <td>\"FW: LINE SM-123\"</td>\n",
       "      <td>victor.lamadrid@enron.com</td>\n",
       "      <td>2001-10-01T14:19:03-07:00</td>\n",
       "      <td>chris.germany@enron.com</td>\n",
       "      <td>TO</td>\n",
       "    </tr>\n",
       "  </tbody>\n",
       "</table>\n",
       "</div>"
      ],
      "text/plain": [
       "               TID               MID             SUBJECT  \\\n",
       "0  e94a22508dac953   e94a22508dac953   \"FW: LINE SM-123\"   \n",
       "1  e94a22508dac953   e94a22508dac953   \"FW: LINE SM-123\"   \n",
       "2  e94a22508dac953   e94a22508dac953   \"FW: LINE SM-123\"   \n",
       "3  e94a22508dac953   e94a22508dac953   \"FW: LINE SM-123\"   \n",
       "4  e94a22508dac953   e94a22508dac953   \"FW: LINE SM-123\"   \n",
       "\n",
       "                         FROM                   TIMESTAMP  \\\n",
       "0   victor.lamadrid@enron.com   2001-10-01T14:19:03-07:00   \n",
       "1   victor.lamadrid@enron.com   2001-10-01T14:19:03-07:00   \n",
       "2   victor.lamadrid@enron.com   2001-10-01T14:19:03-07:00   \n",
       "3   victor.lamadrid@enron.com   2001-10-01T14:19:03-07:00   \n",
       "4   victor.lamadrid@enron.com   2001-10-01T14:19:03-07:00   \n",
       "\n",
       "                          TO TYPE  \n",
       "0       john.hodge@enron.com   TO  \n",
       "1      john.singer@enron.com   TO  \n",
       "2       scott.neal@enron.com   TO  \n",
       "3  clarissa.garcia@enron.com   TO  \n",
       "4    chris.germany@enron.com   TO  "
      ]
     },
     "execution_count": 3,
     "metadata": {},
     "output_type": "execute_result"
    }
   ],
   "source": [
    "df = pd.read_csv(input_file)\n",
    "df.head()"
   ]
  },
  {
   "cell_type": "code",
   "execution_count": 4,
   "metadata": {
    "collapsed": true
   },
   "outputs": [],
   "source": [
    "def make_thread(tid, df):\n",
    "    'Return data representing a thread.'\n",
    "    message_groups = df[df['TID'] == tid].groupby('MID').groups\n",
    "    return {\n",
    "        'threadId': tid,\n",
    "        'messages': [make_message(mid, indices, df) for mid, indices in message_groups.items()]\n",
    "    }\n",
    "\n",
    "def make_message(mid, indices, df):\n",
    "    return {\n",
    "        'messageId': mid.strip(),\n",
    "        'subject': df['SUBJECT'][indices[0]].strip().replace('\\\"', ''),\n",
    "        'sender': df['FROM'][indices[0]].strip(),\n",
    "        'time': df['TIMESTAMP'][indices[0]].strip(),\n",
    "        'recipients': [make_recipient(idx, df) for idx in indices]\n",
    "    }\n",
    "\n",
    "def make_recipient(index, df):\n",
    "    return {\n",
    "        'email': df['TO'][index],\n",
    "        'type': df['TYPE'][index]\n",
    "    }"
   ]
  },
  {
   "cell_type": "code",
   "execution_count": 5,
   "metadata": {
    "scrolled": false
   },
   "outputs": [],
   "source": [
    "threads = [make_thread(tid, df) for tid in df.groupby('TID').groups.keys()]\n",
    "with open(output_file, 'w') as f:\n",
    "    json.dump(threads, f)"
   ]
  },
  {
   "cell_type": "code",
   "execution_count": 12,
   "metadata": {
    "collapsed": true
   },
   "outputs": [],
   "source": [
    "threads_10 = sorted(threads, key=lambda x: -len(x['messages']))[:10]\n",
    "with open('threads-10.json', 'w') as f:\n",
    "    json.dump(threads_10, f)"
   ]
  }
 ],
 "metadata": {
  "kernelspec": {
   "display_name": "Python 3",
   "language": "python",
   "name": "python3"
  },
  "language_info": {
   "codemirror_mode": {
    "name": "ipython",
    "version": 3
   },
   "file_extension": ".py",
   "mimetype": "text/x-python",
   "name": "python",
   "nbconvert_exporter": "python",
   "pygments_lexer": "ipython3",
   "version": "3.6.3"
  }
 },
 "nbformat": 4,
 "nbformat_minor": 2
}
